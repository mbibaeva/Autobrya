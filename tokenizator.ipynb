{
 "cells": [
  {
   "cell_type": "markdown",
   "metadata": {},
   "source": [
    "## Разделим текст на сообщения"
   ]
  },
  {
   "cell_type": "code",
   "execution_count": 6,
   "metadata": {
    "collapsed": true
   },
   "outputs": [],
   "source": [
    "import re"
   ]
  },
  {
   "cell_type": "code",
   "execution_count": 94,
   "metadata": {
    "collapsed": false
   },
   "outputs": [],
   "source": [
    "text = open('ling_emails.txt','r').read()\n",
    "messages = re.findall('ЭТОМОЁПИСЬМОНОМЕР:[0-9]*(.+?)ЭТОКОНЕЦПИСЬМАНОМЕР', text, flags = re.DOTALL)"
   ]
  },
  {
   "cell_type": "markdown",
   "metadata": {},
   "source": [
    "## Уберем цитаты"
   ]
  },
  {
   "cell_type": "code",
   "execution_count": 147,
   "metadata": {
    "collapsed": true
   },
   "outputs": [],
   "source": [
    "def cleaner(text):\n",
    "    lines0 = text.split('\\n')\n",
    "    n = 0\n",
    "    lines = []\n",
    "    for i in lines0:\n",
    "        if i != '':\n",
    "            lines.append(i)\n",
    "    i = 0\n",
    "    while i != len(lines):\n",
    "        if len(re.findall('[0-9]*:[0-9]* пользователь', lines[i])) > 0:\n",
    "            break\n",
    "        i += 1\n",
    "    lines = lines[:i]\n",
    "    lines_str = ''\n",
    "    for i in lines:\n",
    "        lines_str += i\n",
    "        lines_str += ' '\n",
    "    return lines_str"
   ]
  },
  {
   "cell_type": "code",
   "execution_count": 136,
   "metadata": {
    "collapsed": true
   },
   "outputs": [],
   "source": [
    "def strip_dot(x):\n",
    "    if x != r'[А-Я]\\.[А-Я]\\.':\n",
    "        x.strip('.')\n",
    "    return x"
   ]
  },
  {
   "cell_type": "code",
   "execution_count": 139,
   "metadata": {
    "collapsed": false
   },
   "outputs": [],
   "source": [
    "def splitter(text):\n",
    "    text = cleaner(text)\n",
    "    words = text.split()\n",
    "    for x in range(len(words)):\n",
    "        words[x] = words[x].strip('!)(;,\":-?')\n",
    "        words[x] = strip_dot(words[x])\n",
    "    for i in words:\n",
    "        if i == '':\n",
    "            del i\n",
    "    for i in words:\n",
    "        if len(re.findall('--', i)) > 0:\n",
    "            re.sub(\"--\", \"-\")\n",
    "    return words"
   ]
  },
  {
   "cell_type": "code",
   "execution_count": 148,
   "metadata": {
    "collapsed": false
   },
   "outputs": [
    {
     "data": {
      "text/plain": [
       "'Дорогие студенты! Вы не ответили про понедельник, но я вот чего не сообразил: в понедельник у меня конференция. Можем ли мы встретиться во вторник? Там защиты курсовых, но, надеюсь, время можно выкроить. До свидания, АБ '"
      ]
     },
     "execution_count": 148,
     "metadata": {},
     "output_type": "execute_result"
    }
   ],
   "source": [
    "cleaner(messages[2])"
   ]
  },
  {
   "cell_type": "code",
   "execution_count": 128,
   "metadata": {
    "collapsed": false
   },
   "outputs": [
    {
     "data": {
      "text/plain": [
       "['Вязь']"
      ]
     },
     "execution_count": 128,
     "metadata": {},
     "output_type": "execute_result"
    }
   ],
   "source": [
    "splitter(messages[0])"
   ]
  },
  {
   "cell_type": "code",
   "execution_count": 151,
   "metadata": {
    "collapsed": false
   },
   "outputs": [
    {
     "data": {
      "text/plain": [
       "['Добрый',\n",
       " 'день',\n",
       " 'Александр',\n",
       " 'Борисович',\n",
       " 'А',\n",
       " 'вы',\n",
       " 'можете',\n",
       " 'в',\n",
       " 'другой',\n",
       " 'день',\n",
       " 'кроме',\n",
       " 'вторника',\n",
       " 'Во',\n",
       " 'вторник',\n",
       " 'у',\n",
       " 'всех',\n",
       " 'майноры',\n",
       " 'будет',\n",
       " 'не',\n",
       " 'очень',\n",
       " 'удобно.',\n",
       " 'С',\n",
       " 'уважением',\n",
       " 'Лингвисты',\n",
       " '2',\n",
       " 'курс',\n",
       " 'On',\n",
       " 'Saturday',\n",
       " '28',\n",
       " 'May',\n",
       " '2016',\n",
       " 'Alexander',\n",
       " 'Letuchiy',\n",
       " '<alexander.letuchiy@gmail.com>',\n",
       " 'wrote',\n",
       " '>',\n",
       " 'Дорогие',\n",
       " 'студенты',\n",
       " '>',\n",
       " '>',\n",
       " 'Вы',\n",
       " 'не',\n",
       " 'ответили',\n",
       " 'про',\n",
       " 'понедельник',\n",
       " 'но',\n",
       " 'я',\n",
       " 'вот',\n",
       " 'чего',\n",
       " 'не',\n",
       " 'сообразил',\n",
       " 'в',\n",
       " 'понедельник',\n",
       " '>',\n",
       " 'у',\n",
       " 'меня',\n",
       " 'конференция.',\n",
       " 'Можем',\n",
       " 'ли',\n",
       " 'мы',\n",
       " 'встретиться',\n",
       " 'во',\n",
       " 'вторник',\n",
       " 'Там',\n",
       " 'защиты',\n",
       " '>',\n",
       " 'курсовых',\n",
       " 'но',\n",
       " 'надеюсь',\n",
       " 'время',\n",
       " 'можно',\n",
       " 'выкроить.',\n",
       " '>',\n",
       " '>',\n",
       " 'До',\n",
       " 'свидания',\n",
       " '>',\n",
       " '>',\n",
       " 'АБ',\n",
       " '>']"
      ]
     },
     "execution_count": 151,
     "metadata": {},
     "output_type": "execute_result"
    }
   ],
   "source": [
    "splitter(messages[3])"
   ]
  },
  {
   "cell_type": "code",
   "execution_count": null,
   "metadata": {
    "collapsed": true
   },
   "outputs": [],
   "source": []
  }
 ],
 "metadata": {
  "kernelspec": {
   "display_name": "Python [default]",
   "language": "python",
   "name": "python3"
  },
  "language_info": {
   "codemirror_mode": {
    "name": "ipython",
    "version": 3
   },
   "file_extension": ".py",
   "mimetype": "text/x-python",
   "name": "python",
   "nbconvert_exporter": "python",
   "pygments_lexer": "ipython3",
   "version": "3.5.2"
  }
 },
 "nbformat": 4,
 "nbformat_minor": 1
}
